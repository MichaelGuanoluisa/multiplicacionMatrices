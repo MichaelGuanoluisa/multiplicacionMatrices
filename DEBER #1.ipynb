{
 "cells": [
  {
   "cell_type": "code",
   "execution_count": 2,
   "id": "0aa657d4",
   "metadata": {},
   "outputs": [
    {
     "name": "stdout",
     "output_type": "stream",
     "text": [
      "MULTIPLICACION DE MATRICES\n",
      "Ingrese el tamaño de la fila de la primera matriz: 3\n",
      "Ingrese el tamaño de la columna de la primera matriz: 2\n",
      "ingrese el numero en la posicion [0] [0] : 1\n",
      "ingrese el numero en la posicion [0] [1] : 2\n",
      "ingrese el numero en la posicion [1] [0] : 3\n",
      "ingrese el numero en la posicion [1] [1] : 4\n",
      "ingrese el numero en la posicion [2] [0] : 5\n",
      "ingrese el numero en la posicion [2] [1] : 6\n",
      "[[1, 2], [3, 4], [5, 6]]\n",
      "Ingrese el tamaño de la fila de la segunda matriz: 7\n",
      "Ingrese el tamaño de la columna de la segunda matriz: 2\n",
      "ingrese el numero en la posicion [0] [0] : 1\n",
      "ingrese el numero en la posicion [0] [1] : 2\n",
      "ingrese el numero en la posicion [1] [0] : 3\n",
      "ingrese el numero en la posicion [1] [1] : 4\n",
      "ingrese el numero en la posicion [2] [0] : 5\n",
      "ingrese el numero en la posicion [2] [1] : 6\n",
      "ingrese el numero en la posicion [3] [0] : 7\n",
      "ingrese el numero en la posicion [3] [1] : 8\n",
      "ingrese el numero en la posicion [4] [0] : 9\n",
      "ingrese el numero en la posicion [4] [1] : 1\n",
      "ingrese el numero en la posicion [5] [0] : 2\n",
      "ingrese el numero en la posicion [5] [1] : 3\n",
      "ingrese el numero en la posicion [6] [0] : 4\n",
      "ingrese el numero en la posicion [6] [1] : 5\n",
      "[[1, 2], [3, 4], [5, 6], [7, 8], [9, 1], [2, 3], [4, 5]]\n",
      "La matriz resultante de la multiplicación de las dos matrices es la siguiente: \n",
      "[[7, 10], [15, 22], [23, 34]]\n"
     ]
    }
   ],
   "source": [
    "def crearMatriz(n,m):\n",
    " matriz = []\n",
    " for i in range(n):\n",
    "     a = [0]*m\n",
    "     matriz.append(a)\n",
    " return matriz\n",
    "\n",
    "print(\"MULTIPLICACION DE MATRICES\")\n",
    "n1=int(input(\"Ingrese el tamaño de la fila de la primera matriz: \"))\n",
    "m1=int(input(\"Ingrese el tamaño de la columna de la primera matriz: \"))\n",
    "matriz1 = crearMatriz(n1,m1)\n",
    "\n",
    "for i in range(0,n1,1):\n",
    "    for j in range(0,m1,1):\n",
    "        matriz1[i][j]=int(input(\"ingrese el numero en la posicion [\"+str(i)+\"] [\"+str(j)+\"] : \"))\n",
    "        \n",
    "print(matriz1)\n",
    "\n",
    "n2=int(input(\"Ingrese el tamaño de la fila de la segunda matriz: \"))\n",
    "m2=int(input(\"Ingrese el tamaño de la columna de la segunda matriz: \"))\n",
    "matriz2 = crearMatriz(n2,m2)\n",
    "\n",
    "for i in range(0,n2,1):\n",
    "    for j in range(0,m2,1):\n",
    "        matriz2[i][j]=int(input(\"ingrese el numero en la posicion [\"+str(i)+\"] [\"+str(j)+\"] : \"))\n",
    "        \n",
    "print(matriz2)\n",
    "\n",
    "matriz3 = crearMatriz(n1,m2)\n",
    "\n",
    "#multiplicacion\n",
    "for i in range(0,n1,1):\n",
    "    for j in range(0,m2,1):\n",
    "        for k in range(0,m1,1):\n",
    "            matriz3[i][j] += matriz1[i][k] * matriz2[k][j]\n",
    "            \n",
    "print(\"La matriz resultante de la multiplicación de las dos matrices es la siguiente: \")\n",
    "print(matriz3)"
   ]
  },
  {
   "cell_type": "markdown",
   "id": "e11e1a7f",
   "metadata": {},
   "source": []
  }
 ],
 "metadata": {
  "kernelspec": {
   "display_name": "Python 3",
   "language": "python",
   "name": "python3"
  },
  "language_info": {
   "codemirror_mode": {
    "name": "ipython",
    "version": 3
   },
   "file_extension": ".py",
   "mimetype": "text/x-python",
   "name": "python",
   "nbconvert_exporter": "python",
   "pygments_lexer": "ipython3",
   "version": "3.9.5"
  }
 },
 "nbformat": 4,
 "nbformat_minor": 5
}
